{
 "cells": [
  {
   "cell_type": "code",
   "execution_count": 2,
   "metadata": {},
   "outputs": [
    {
     "name": "stdout",
     "output_type": "stream",
     "text": [
      "-20.714285714285715\n",
      "15.0\n"
     ]
    }
   ],
   "source": [
    "value = (6 + 9) * (3 - 1) / (5 + 2) \\\n",
    "        - ((10 % 3) + (8 // 2)) ** 2\n",
    "print(value)\n",
    "\n",
    "\n",
    "\n",
    "\n",
    "result = ((5 + 3) * 7 - 2 ** 3) / (4 * 2) \\\n",
    "         + (12 / 3 - 1) ** 2\n",
    "print(result)\n"
   ]
  }
 ],
 "metadata": {
  "kernelspec": {
   "display_name": "Python 3",
   "language": "python",
   "name": "python3"
  },
  "language_info": {
   "codemirror_mode": {
    "name": "ipython",
    "version": 3
   },
   "file_extension": ".py",
   "mimetype": "text/x-python",
   "name": "python",
   "nbconvert_exporter": "python",
   "pygments_lexer": "ipython3",
   "version": "3.11.0"
  },
  "orig_nbformat": 4
 },
 "nbformat": 4,
 "nbformat_minor": 2
}
