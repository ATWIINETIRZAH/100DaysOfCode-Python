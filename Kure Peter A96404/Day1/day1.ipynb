{
 "cells": [
  {
   "cell_type": "code",
   "execution_count": null,
   "metadata": {},
   "outputs": [],
   "source": [
    "# Python basics and syntax \n",
    "# Python uses whitespace(indentation) for defining blocks of code\n",
    "\n",
    "# Comments start with '#' and are ingored by the python interpreter, they are used for documenting code\n",
    "# Types of comments\n",
    "\n",
    "# single line comment\n",
    "\"\"\"\n",
    " multi \n",
    " line \n",
    " comment\n",
    "\"\"\"\n",
    "\n",
    "# variables\n",
    "# these store data. they can hold different kinds of data such as integers, floats, strings.abs\n",
    "# Data types: Examples include: integers, boolean, strings\n",
    "\n",
    "# The print statement: print()\n",
    "# it is used to display output. it can display results of expressions as well text and integers"
   ]
  }
 ],
 "metadata": {
  "language_info": {
   "name": "python"
  },
  "orig_nbformat": 4
 },
 "nbformat": 4,
 "nbformat_minor": 2
}
