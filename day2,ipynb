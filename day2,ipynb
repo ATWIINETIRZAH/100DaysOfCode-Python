import math
a= (34-24)/10+3*math.log(5)*math.pow(2,11)
print(a)
