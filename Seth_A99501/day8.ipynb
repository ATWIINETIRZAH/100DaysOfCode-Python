{
 "cells": [
  {
   "cell_type": "code",
   "execution_count": 3,
   "metadata": {},
   "outputs": [
    {
     "name": "stdout",
     "output_type": "stream",
     "text": [
      "You are 45 years old.\n",
      "You can proceed to the polling station to cast your vote\n"
     ]
    }
   ],
   "source": [
    "def voter():\n",
    "    #getting the voter's age\n",
    "    age=int(input('How old are you?'))\n",
    "    #printing the voter's age\n",
    "    print(f'You are {age} years old.')\n",
    "    #check if the voter is eligible for voting\n",
    "    if age >= 18:\n",
    "        print('You can proceed to the polling station to cast your vote.')\n",
    "    else:\n",
    "        print('You cannot vote until you are at least 18.')\n",
    "voter()        \n",
    "    \n"
   ]
  },
  {
   "cell_type": "code",
   "execution_count": null,
   "metadata": {},
   "outputs": [],
   "source": []
  }
 ],
 "metadata": {
  "kernelspec": {
   "display_name": "Python 3",
   "language": "python",
   "name": "python3"
  },
  "language_info": {
   "codemirror_mode": {
    "name": "ipython",
    "version": 3
   },
   "file_extension": ".py",
   "mimetype": "text/x-python",
   "name": "python",
   "nbconvert_exporter": "python",
   "pygments_lexer": "ipython3",
   "version": "3.11.6"
  }
 },
 "nbformat": 4,
 "nbformat_minor": 2
}
