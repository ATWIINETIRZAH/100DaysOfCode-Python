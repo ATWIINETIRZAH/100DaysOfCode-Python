{
 "cells": [
  {
   "cell_type": "code",
   "execution_count": 12,
   "metadata": {},
   "outputs": [
    {
     "name": "stdout",
     "output_type": "stream",
     "text": [
      "The total number is: 14605920\n",
      "\n",
      "Seth has got 56 the previous semester\n",
      "Mbasha has got 68 the previous semester\n",
      "Bigarura has got 57 the previous semester\n"
     ]
    }
   ],
   "source": [
    "#delaration of the function\n",
    "def multiply():\n",
    "    #multplication of five variables\n",
    "    Tchairs=9*8*23*98*90\n",
    "    #printing the product of the five variables\n",
    "    print('The total number is:',Tchairs)\n",
    "    #print to create an empty space\n",
    "    print() \n",
    "#calling the created function\n",
    "multiply()\n",
    "\n",
    "#declaration of the function\n",
    "def students_marks(): \n",
    "    #creating a list that stores students details\n",
    "    names=['Seth','Mbasha','Bigarura']\n",
    "    grades=[56,68,57]\n",
    "    \n",
    "    #iterates through the list and print the information about each student\n",
    "    for i in range(len(names)):\n",
    "        print(f\"{names[i]} has got {grades[i]} the previous semester\")\n",
    "    \n",
    " #calling the function   \n",
    "students_marks()\n",
    "    "
   ]
  }
 ],
 "metadata": {
  "kernelspec": {
   "display_name": "Python 3",
   "language": "python",
   "name": "python3"
  },
  "language_info": {
   "codemirror_mode": {
    "name": "ipython",
    "version": 3
   },
   "file_extension": ".py",
   "mimetype": "text/x-python",
   "name": "python",
   "nbconvert_exporter": "python",
   "pygments_lexer": "ipython3",
   "version": "3.11.5"
  },
  "orig_nbformat": 4
 },
 "nbformat": 4,
 "nbformat_minor": 2
}
