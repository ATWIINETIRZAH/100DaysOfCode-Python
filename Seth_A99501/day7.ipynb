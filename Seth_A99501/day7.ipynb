{
 "cells": [
  {
   "cell_type": "code",
   "execution_count": 12,
   "metadata": {},
   "outputs": [
    {
     "name": "stdout",
     "output_type": "stream",
     "text": [
      "Original total:  5343.0\n",
      "10% discount applied, Discounted Total:  4808.7\n"
     ]
    }
   ],
   "source": [
    "def shopping():\n",
    "    Tcost=float(input('Whatis the total cost of your shopping cart? '))\n",
    "    if Tcost>=50:\n",
    "        #10% discount\n",
    "        Tdisc=Tcost-(Tcost*0.1)\n",
    "        \n",
    "        #printing the discount and original price\n",
    "        print('Original total: ',Tcost)\n",
    "        print('10% discount applied, Discounted Total: ',Tdisc)\n",
    "    else:\n",
    "        #When there is no discount applied.\n",
    "        print('No discount applied')\n",
    "shopping()\n"
   ]
  },
  {
   "cell_type": "code",
   "execution_count": null,
   "metadata": {},
   "outputs": [],
   "source": []
  }
 ],
 "metadata": {
  "kernelspec": {
   "display_name": "Python 3",
   "language": "python",
   "name": "python3"
  },
  "language_info": {
   "codemirror_mode": {
    "name": "ipython",
    "version": 3
   },
   "file_extension": ".py",
   "mimetype": "text/x-python",
   "name": "python",
   "nbconvert_exporter": "python",
   "pygments_lexer": "ipython3",
   "version": "3.11.6"
  }
 },
 "nbformat": 4,
 "nbformat_minor": 2
}
